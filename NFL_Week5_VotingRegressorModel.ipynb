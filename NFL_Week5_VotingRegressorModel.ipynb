{
 "cells": [
  {
   "cell_type": "code",
   "execution_count": 1,
   "metadata": {},
   "outputs": [],
   "source": [
    "import joblib\n",
    "import pandas as pd"
   ]
  },
  {
   "cell_type": "code",
   "execution_count": 2,
   "metadata": {},
   "outputs": [],
   "source": [
    "model_filename = 'NFL_Week5_VotingRegressorModel.pkl'\n",
    "ridge_model = joblib.load(model_filename)"
   ]
  },
  {
   "cell_type": "code",
   "execution_count": 3,
   "metadata": {},
   "outputs": [],
   "source": [
    "# Load your upcoming week data (CSV containing teams and features for prediction)\n",
    "upcoming_week_data = pd.read_csv(r'C:\\Users\\NickBowen\\Documents\\NFL Data\\2024 Weekly Game Data\\NFL_TeamGame_Week5_Predictions - Model Data.csv')"
   ]
  },
  {
   "cell_type": "code",
   "execution_count": 4,
   "metadata": {},
   "outputs": [
    {
     "name": "stderr",
     "output_type": "stream",
     "text": [
      "c:\\Users\\NickBowen\\anaconda3\\lib\\site-packages\\sklearn\\preprocessing\\_encoders.py:170: UserWarning: Found unknown categories in columns [2] during transform. These unknown categories will be encoded as all zeros\n",
      "  warnings.warn(\n"
     ]
    }
   ],
   "source": [
    "# Apply the model to make predictions\n",
    "predictions = ridge_model.predict(upcoming_week_data)"
   ]
  },
  {
   "cell_type": "code",
   "execution_count": 5,
   "metadata": {},
   "outputs": [],
   "source": [
    "# Add predictions to the DataFrame\n",
    "upcoming_week_data['Predicted Points'] = predictions"
   ]
  },
  {
   "cell_type": "code",
   "execution_count": 6,
   "metadata": {},
   "outputs": [
    {
     "name": "stdout",
     "output_type": "stream",
     "text": [
      "          Team  Predicted Points\n",
      "0   Buccaneers         22.776222\n",
      "1      Falcons         17.361334\n",
      "2     Panthers         18.794616\n",
      "3        Bears         18.459917\n",
      "4       Ravens         26.115796\n",
      "5      Bengals         25.076208\n",
      "6      Raiders         16.901905\n",
      "7      Broncos         17.355989\n",
      "8        Bills         28.954365\n",
      "9       Texans         21.384373\n",
      "10       Colts         19.943689\n",
      "11     Jaguars         16.887186\n",
      "12        Jets         20.794939\n",
      "13     Vikings         29.953410\n",
      "14    Dolphins         12.649723\n",
      "15    Patriots         17.091990\n",
      "16     Cowboys         19.112726\n",
      "17    Steelers         19.081568\n",
      "18     Packers         22.429121\n",
      "19        Rams         19.702287\n",
      "20      Giants         17.452882\n",
      "21    Seahawks         25.015592\n",
      "22   Cardinals         20.717706\n",
      "23       49ers         22.860261\n",
      "24      Browns         15.559802\n",
      "25  Commanders         28.438063\n",
      "26      Saints         27.134101\n",
      "27      Chiefs         22.493843\n"
     ]
    }
   ],
   "source": [
    "# Output the predictions\n",
    "print(upcoming_week_data[['Team', 'Predicted Points']])"
   ]
  },
  {
   "cell_type": "code",
   "execution_count": 7,
   "metadata": {},
   "outputs": [],
   "source": [
    "# Export the DataFrame with predictions to a CSV file\n",
    "upcoming_week_data.to_csv('NFL_Week5_Predictions_VotingRegressor.csv', index=False)"
   ]
  },
  {
   "cell_type": "code",
   "execution_count": null,
   "metadata": {},
   "outputs": [],
   "source": []
  }
 ],
 "metadata": {
  "kernelspec": {
   "display_name": "base",
   "language": "python",
   "name": "python3"
  },
  "language_info": {
   "codemirror_mode": {
    "name": "ipython",
    "version": 3
   },
   "file_extension": ".py",
   "mimetype": "text/x-python",
   "name": "python",
   "nbconvert_exporter": "python",
   "pygments_lexer": "ipython3",
   "version": "3.9.13"
  }
 },
 "nbformat": 4,
 "nbformat_minor": 2
}
