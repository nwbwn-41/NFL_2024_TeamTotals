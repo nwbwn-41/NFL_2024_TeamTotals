{
 "cells": [
  {
   "cell_type": "code",
   "execution_count": 1,
   "metadata": {},
   "outputs": [],
   "source": [
    "import joblib\n",
    "import pandas as pd"
   ]
  },
  {
   "cell_type": "code",
   "execution_count": 2,
   "metadata": {},
   "outputs": [],
   "source": [
    "model_filename = 'NFL_Week5_RidgeModel.pkl'\n",
    "ridge_model = joblib.load(model_filename)"
   ]
  },
  {
   "cell_type": "code",
   "execution_count": 3,
   "metadata": {},
   "outputs": [],
   "source": [
    "# Load your upcoming week data (CSV containing teams and features for prediction)\n",
    "upcoming_week_data = pd.read_csv(r'C:\\Users\\NickBowen\\Documents\\NFL Data\\2024 Weekly Game Data\\NFL_TeamGame_Week5_Predictions - Model Data.csv')"
   ]
  },
  {
   "cell_type": "code",
   "execution_count": 5,
   "metadata": {},
   "outputs": [
    {
     "name": "stderr",
     "output_type": "stream",
     "text": [
      "c:\\Users\\NickBowen\\anaconda3\\lib\\site-packages\\sklearn\\preprocessing\\_encoders.py:170: UserWarning: Found unknown categories in columns [2] during transform. These unknown categories will be encoded as all zeros\n",
      "  warnings.warn(\n"
     ]
    }
   ],
   "source": [
    "# Apply the model to make predictions\n",
    "predictions = ridge_model.predict(upcoming_week_data)"
   ]
  },
  {
   "cell_type": "code",
   "execution_count": 6,
   "metadata": {},
   "outputs": [],
   "source": [
    "# Add predictions to the DataFrame\n",
    "upcoming_week_data['Predicted Points'] = predictions"
   ]
  },
  {
   "cell_type": "code",
   "execution_count": 7,
   "metadata": {},
   "outputs": [
    {
     "name": "stdout",
     "output_type": "stream",
     "text": [
      "          Team  Predicted Points\n",
      "0   Buccaneers         23.412444\n",
      "1      Falcons         16.492669\n",
      "2     Panthers         17.449233\n",
      "3        Bears         18.129833\n",
      "4       Ravens         25.701591\n",
      "5      Bengals         25.892416\n",
      "6      Raiders         17.533811\n",
      "7      Broncos         15.931977\n",
      "8        Bills         30.368731\n",
      "9       Texans         22.328746\n",
      "10       Colts         20.377377\n",
      "11     Jaguars         15.914373\n",
      "12        Jets         20.459878\n",
      "13     Vikings         28.446820\n",
      "14    Dolphins          8.949446\n",
      "15    Patriots         16.593981\n",
      "16     Cowboys         19.585451\n",
      "17    Steelers         17.863136\n",
      "18     Packers         22.668242\n",
      "19        Rams         19.294574\n",
      "20      Giants         16.825765\n",
      "21    Seahawks         25.681184\n",
      "22   Cardinals         20.335412\n",
      "23       49ers         23.610521\n",
      "24      Browns         15.719603\n",
      "25  Commanders         30.426126\n",
      "26      Saints         28.098203\n",
      "27      Chiefs         23.417687\n"
     ]
    }
   ],
   "source": [
    "# Output the predictions\n",
    "print(upcoming_week_data[['Team', 'Predicted Points']])"
   ]
  },
  {
   "cell_type": "code",
   "execution_count": 8,
   "metadata": {},
   "outputs": [],
   "source": []
  },
  {
   "cell_type": "code",
   "execution_count": null,
   "metadata": {},
   "outputs": [],
   "source": []
  }
 ],
 "metadata": {
  "kernelspec": {
   "display_name": "base",
   "language": "python",
   "name": "python3"
  },
  "language_info": {
   "codemirror_mode": {
    "name": "ipython",
    "version": 3
   },
   "file_extension": ".py",
   "mimetype": "text/x-python",
   "name": "python",
   "nbconvert_exporter": "python",
   "pygments_lexer": "ipython3",
   "version": "3.9.13"
  }
 },
 "nbformat": 4,
 "nbformat_minor": 2
}
